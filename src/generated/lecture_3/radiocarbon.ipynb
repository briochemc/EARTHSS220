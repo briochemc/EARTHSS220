{
 "cells": [
  {
   "cell_type": "markdown",
   "metadata": {},
   "source": [
    "## A simple model for $R \\equiv ^{14}\\!\\!C/^{12}C$ normalized so that $R=1$ in the atmosphere\n",
    "\n",
    "$$ \\frac{\\partial R}{\\partial t} + [\\mathbf{TRdiv}]R = \\kappa\\boldsymbol{\\Lambda}(1-R) -\\lambda R $$"
   ]
  },
  {
   "cell_type": "markdown",
   "metadata": {},
   "source": [
    "Here we will redo the radiocarbon age example, but using the OCIM transport operator made available through the AIBECS package"
   ]
  },
  {
   "cell_type": "code",
   "execution_count": 1,
   "metadata": {},
   "outputs": [
    {
     "name": "stderr",
     "output_type": "stream",
     "text": [
      "┌ Warning: Error requiring Unitful from Flatten:\n",
      "│ ArgumentError: Package Flatten does not have Unitful in its dependencies:\n",
      "│ - If you have Flatten checked out for development and have\n",
      "│   added Unitful as a dependency but haven't updated your primary\n",
      "│   environment's manifest file, try `Pkg.resolve()`.\n",
      "│ - Otherwise you may need to report an issue with Flatten\n",
      "│ Stacktrace:\n",
      "│  [1] require(::Module, ::Symbol) at ./loading.jl:836\n",
      "│  [2] top-level scope at /Users/fprimeau/.julia/packages/Flatten/AXBiq/src/Flatten.jl:21\n",
      "│  [3] eval at ./boot.jl:328 [inlined]\n",
      "│  [4] eval at /Users/fprimeau/.julia/packages/Flatten/AXBiq/src/Flatten.jl:1 [inlined]\n",
      "│  [5] (::getfield(Flatten, Symbol(\"##3#6\")))() at /Users/fprimeau/.julia/packages/Requires/9Jse8/src/require.jl:67\n",
      "│  [6] err(::getfield(Flatten, Symbol(\"##3#6\")), ::Module, ::String) at /Users/fprimeau/.julia/packages/Requires/9Jse8/src/require.jl:38\n",
      "│  [7] #2 at /Users/fprimeau/.julia/packages/Requires/9Jse8/src/require.jl:66 [inlined]\n",
      "│  [8] withpath(::getfield(Flatten, Symbol(\"##2#5\")), ::String) at /Users/fprimeau/.julia/packages/Requires/9Jse8/src/require.jl:28\n",
      "│  [9] #1 at /Users/fprimeau/.julia/packages/Requires/9Jse8/src/require.jl:65 [inlined]\n",
      "│  [10] listenpkg(::getfield(Flatten, Symbol(\"##1#4\")), ::Base.PkgId) at /Users/fprimeau/.julia/packages/Requires/9Jse8/src/require.jl:13\n",
      "│  [11] macro expansion at /Users/fprimeau/.julia/packages/Requires/9Jse8/src/require.jl:64 [inlined]\n",
      "│  [12] __init__() at /Users/fprimeau/.julia/packages/Flatten/AXBiq/src/Flatten.jl:20\n",
      "│  [13] _include_from_serialized(::String, ::Array{Any,1}) at ./loading.jl:633\n",
      "│  [14] _require_search_from_serialized(::Base.PkgId, ::String) at ./loading.jl:713\n",
      "│  [15] _tryrequire_from_serialized(::Base.PkgId, ::UInt64, ::String) at ./loading.jl:648\n",
      "│  [16] _require_search_from_serialized(::Base.PkgId, ::String) at ./loading.jl:702\n",
      "│  [17] _require(::Base.PkgId) at ./loading.jl:937\n",
      "│  [18] require(::Base.PkgId) at ./loading.jl:858\n",
      "│  [19] require(::Module, ::Symbol) at ./loading.jl:853\n",
      "│  [20] top-level scope at In[1]:1\n",
      "│  [21] eval at ./boot.jl:328 [inlined]\n",
      "│  [22] softscope_include_string(::Module, ::String, ::String) at /Users/fprimeau/.julia/packages/SoftGlobalScope/cSbw5/src/SoftGlobalScope.jl:218\n",
      "│  [23] execute_request(::ZMQ.Socket, ::IJulia.Msg) at /Users/fprimeau/.julia/packages/IJulia/gI2uA/src/execute_request.jl:67\n",
      "│  [24] #invokelatest#1 at ./essentials.jl:742 [inlined]\n",
      "│  [25] invokelatest at ./essentials.jl:741 [inlined]\n",
      "│  [26] eventloop(::ZMQ.Socket) at /Users/fprimeau/.julia/packages/IJulia/gI2uA/src/eventloop.jl:8\n",
      "│  [27] (::getfield(IJulia, Symbol(\"##15#18\")))() at ./task.jl:259\n",
      "└ @ Requires /Users/fprimeau/.julia/packages/Requires/9Jse8/src/require.jl:40\n"
     ]
    },
    {
     "name": "stdout",
     "output_type": "stream",
     "text": [
      "Loading OCIM1 with JLD2 ✅\n"
     ]
    }
   ],
   "source": [
    "using AIBECS\n",
    "const mask, grd, T_OCIM = OCIM1.load() ;"
   ]
  },
  {
   "cell_type": "markdown",
   "metadata": {},
   "source": [
    "Some useful OCIM stuff"
   ]
  },
  {
   "cell_type": "code",
   "execution_count": 2,
   "metadata": {},
   "outputs": [],
   "source": [
    "iwet = findall(x -> x == 1, vec(mask));  # index to wet gridboxes\n",
    "dz1 = grd[\"dzt\"][1]                      # thickness of the top layer\n",
    "z = vec(grd[\"ZT3d\"])[iwet]               # depth of the gridbox centers\n",
    "nwet = length(iwet)                      # number of wet grid boxes\n",
    "dv = vec(grd[\"DZT3d\"])[iwet].*vec(grd[\"DYT3d\"])[iwet].*vec(grd[\"DXT3d\"])[iwet]; # volume of the gridboxes\n",
    "lat, lon = vec(grd[\"yt\"]), vec(grd[\"xt\"]); # latitudes and longitudes (useful for plotting)\n",
    "depth = vec(grd[\"zt\"]) ;"
   ]
  },
  {
   "cell_type": "markdown",
   "metadata": {},
   "source": [
    "Make a table of parameters"
   ]
  },
  {
   "cell_type": "code",
   "execution_count": 3,
   "metadata": {},
   "outputs": [],
   "source": [
    "t = empty_parameter_table()               # initialize table of parameters\n",
    "add_parameter!(t, :λ, 1 / (5730*log(2))u\"yr\") # add the radioactive decay e-folding timescale\n",
    "add_parameter!(t, :κ, 50u\"m\" / 10u\"yr\")\n",
    "initialize_Parameters_type(t)             # Generate the parameter table"
   ]
  },
  {
   "cell_type": "markdown",
   "metadata": {},
   "source": [
    "The model parameters"
   ]
  },
  {
   "cell_type": "code",
   "execution_count": 4,
   "metadata": {},
   "outputs": [
    {
     "data": {
      "text/plain": [
       "     λ = 2.52e-04 [yr⁻¹] (fixed)\n",
       "     κ = 5.00e+00 [m yr⁻¹] (fixed)\n"
      ]
     },
     "execution_count": 4,
     "metadata": {},
     "output_type": "execute_result"
    },
    {
     "name": "stdout",
     "output_type": "stream",
     "text": [
      "Parameters{Float64}\n"
     ]
    }
   ],
   "source": [
    "p₀ = Parameters()"
   ]
  },
  {
   "cell_type": "markdown",
   "metadata": {},
   "source": [
    "The sources and sinks of $R$"
   ]
  },
  {
   "cell_type": "code",
   "execution_count": 5,
   "metadata": {},
   "outputs": [
    {
     "data": {
      "text/plain": [
       "sms_14c (generic function with 1 method)"
      ]
     },
     "execution_count": 5,
     "metadata": {},
     "output_type": "execute_result"
    }
   ],
   "source": [
    "function sms_14c(R, p)\n",
    "    λ = p.λ\n",
    "    κ = p.κ\n",
    "    return κ * (z .< 20) .* (1.0 .- R) / dz1 - λ.*R\n",
    "end"
   ]
  },
  {
   "cell_type": "markdown",
   "metadata": {},
   "source": [
    "The tracer transport operator"
   ]
  },
  {
   "cell_type": "code",
   "execution_count": 6,
   "metadata": {},
   "outputs": [
    {
     "data": {
      "text/plain": [
       "T_14c (generic function with 1 method)"
      ]
     },
     "execution_count": 6,
     "metadata": {},
     "output_type": "execute_result"
    }
   ],
   "source": [
    "T_14c(p) = T_OCIM"
   ]
  },
  {
   "cell_type": "markdown",
   "metadata": {},
   "source": [
    "Prepare the stuff needed for the AIBECS solver:"
   ]
  },
  {
   "cell_type": "code",
   "execution_count": 7,
   "metadata": {},
   "outputs": [
    {
     "data": {
      "text/plain": [
       "(getfield(AIBECS, Symbol(\"#F#22\")){getfield(AIBECS, Symbol(\"#T#18\")){Tuple{typeof(T_14c)}},getfield(AIBECS, Symbol(\"#G#20\")){Tuple{typeof(sms_14c)},getfield(AIBECS, Symbol(\"#tracers#17\")){Int64,Int64}}}(getfield(AIBECS, Symbol(\"#T#18\")){Tuple{typeof(T_14c)}}((T_14c,)), getfield(AIBECS, Symbol(\"#G#20\")){Tuple{typeof(sms_14c)},getfield(AIBECS, Symbol(\"#tracers#17\")){Int64,Int64}}((sms_14c,), getfield(AIBECS, Symbol(\"#tracers#17\")){Int64,Int64}(200160, 1))), getfield(AIBECS, Symbol(\"#∇ₓF#24\")){getfield(AIBECS, Symbol(\"#T#18\")){Tuple{typeof(T_14c)}},getfield(AIBECS, Symbol(\"#∇ₓG#23\")){Tuple{typeof(sms_14c)},Int64,Int64}}(getfield(AIBECS, Symbol(\"#T#18\")){Tuple{typeof(T_14c)}}((T_14c,)), getfield(AIBECS, Symbol(\"#∇ₓG#23\")){Tuple{typeof(sms_14c)},Int64,Int64}((sms_14c,), 200160, 1)))"
      ]
     },
     "execution_count": 7,
     "metadata": {},
     "output_type": "execute_result"
    }
   ],
   "source": [
    "T_matrices = (T_14c,)            # bundles all the transport matrices in a tuple\n",
    "sources_minus_sinks = (sms_14c,) # bundles all the source-sink functions in a tuple\n",
    "F, ∇ₓF = state_function_and_Jacobian(T_matrices, sources_minus_sinks, nwet) # generates the state function (and its Jacobian!)"
   ]
  },
  {
   "cell_type": "code",
   "execution_count": 8,
   "metadata": {},
   "outputs": [],
   "source": [
    "x₀ = ones(nwet)                           # initial iterate for the solver\n",
    "prob = SteadyStateProblem(F, ∇ₓF, x₀, p₀) # define the problem\n",
    "R = solve(prob, CTKAlg())                 # solve the problem\n",
    "c14age = -log.(R)/p₀.λ;                   # convert R to $^{14}C-age$"
   ]
  },
  {
   "cell_type": "markdown",
   "metadata": {},
   "source": [
    "Make some plots"
   ]
  },
  {
   "cell_type": "code",
   "execution_count": 9,
   "metadata": {},
   "outputs": [
    {
     "data": {
      "text/plain": [
       "(91, 180, 24)"
      ]
     },
     "execution_count": 9,
     "metadata": {},
     "output_type": "execute_result"
    }
   ],
   "source": [
    "c14age_3d = NaN * mask     # creates a 3D array of NaNs\n",
    "c14age_3d[iwet] = c14age   # Fills the wet grid boxes with the age values\n",
    "size(c14age_3d)            # Just to check the size of age_3D"
   ]
  },
  {
   "cell_type": "markdown",
   "metadata": {},
   "source": [
    "Pick a layer to plot"
   ]
  },
  {
   "cell_type": "code",
   "execution_count": 10,
   "metadata": {},
   "outputs": [
    {
     "data": {
      "text/plain": [
       "91×180 Array{Float64,2}:\n",
       "  NaN       NaN       NaN       NaN      …   NaN       NaN       NaN    \n",
       "  NaN       NaN       NaN       NaN          NaN       NaN       NaN    \n",
       "  NaN       NaN       NaN       NaN          NaN       NaN       NaN    \n",
       "  NaN       NaN       NaN       NaN          NaN       NaN       NaN    \n",
       "  NaN       NaN       NaN       NaN          NaN       NaN       NaN    \n",
       "  NaN       NaN       NaN       NaN      …   NaN       NaN       NaN    \n",
       "  NaN       NaN       NaN       NaN          NaN       NaN       NaN    \n",
       "  NaN       NaN       NaN       NaN          NaN       NaN       NaN    \n",
       "  NaN       NaN       NaN       NaN          NaN       NaN       NaN    \n",
       " 1342.82    NaN       NaN       NaN          NaN       NaN      1342.79 \n",
       " 1339.91   1336.99   1334.25   1329.63   …  1342.4    1342.14   1341.25 \n",
       " 1346.55   1343.69   1340.57   1336.83      1348.46   1348.21   1347.44 \n",
       " 1350.4    1347.7    1345.53   1343.22      1353.99   1352.69   1351.33 \n",
       "    ⋮                                    ⋱                              \n",
       "  553.69    554.206   557.295   555.075      563.6     559.598   555.607\n",
       "  543.984   543.2     543.873   545.753  …   556.713   551.213   546.376\n",
       "  549.679   544.949   543.838   544.911      556.977   554.751   552.336\n",
       "  551.565   551.434   552.414   553.257      551.17    551.323   552.009\n",
       "  548.607   550.837   552.478   553.964      544.095   545.933   547.237\n",
       "  555.314   556.118   557.729   556.933      551.708   553.125   554.407\n",
       "  561.17    561.348   559.361   555.091  …   560.959   558.9     560.849\n",
       "  566.044   568.603   566.295   563.76       564.015   562.776   564.358\n",
       "  557.612   560.431   562.178   563.778      552.367   553.436   555.091\n",
       "  552.427   554.31    556.009   557.609      549.213   549.925   550.787\n",
       "  549.492   550.181   550.84    551.239      548.061   548.057   548.836\n",
       "  NaN       NaN       NaN       NaN      …   NaN       NaN       NaN    "
      ]
     },
     "execution_count": 10,
     "metadata": {},
     "output_type": "execute_result"
    }
   ],
   "source": [
    "iz = findfirst(depth .> 700) # aim for a depth of ~ 700 m\n",
    "iz, depth[iz]\n",
    "c14age_3d_1000m_yr = c14age_3d[:,:,iz] * ustrip(1.0u\"s\" |> u\"yr\")"
   ]
  },
  {
   "cell_type": "code",
   "execution_count": 11,
   "metadata": {},
   "outputs": [],
   "source": [
    "ENV[\"MPLBACKEND\"]=\"qt5agg\"\n",
    "using PyPlot, PyCall"
   ]
  },
  {
   "cell_type": "code",
   "execution_count": null,
   "metadata": {},
   "outputs": [],
   "source": [
    "clf()\n",
    "ccrs = pyimport(\"cartopy.crs\")\n",
    "ax = subplot(projection=ccrs.Robinson(central_longitude=-155.0))\n",
    "ax.coastlines()\n",
    "lon_cyc = [lon; 360+lon[1]] # making it cyclic for Cartopy\n",
    "age_cyc = hcat(c14age_3d_1000m_yr, c14age_3d_1000m_yr[:,1])\n",
    "p = contourf(lon_cyc, lat, age_cyc, levels=0:100:1800, transform=ccrs.PlateCarree(), zorder=-1)\n",
    "colorbar(p, orientation=\"horizontal\")\n",
    "gcf() # gets the current figure to display"
   ]
  },
  {
   "cell_type": "markdown",
   "metadata": {},
   "source": [
    "*This notebook was generated using [Literate.jl](https://github.com/fredrikekre/Literate.jl).*"
   ]
  }
 ],
 "metadata": {
  "kernelspec": {
   "display_name": "Julia 1.1.0",
   "language": "julia",
   "name": "julia-1.1"
  },
  "language_info": {
   "file_extension": ".jl",
   "mimetype": "application/julia",
   "name": "julia",
   "version": "1.1.0"
  }
 },
 "nbformat": 4,
 "nbformat_minor": 3
}
